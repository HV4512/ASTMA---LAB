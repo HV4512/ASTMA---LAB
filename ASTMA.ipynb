{
  "cells": [
    {
      "cell_type": "markdown",
      "metadata": {
        "id": "KTLGZEJlW1OD"
      },
      "source": [
        "*EXP-1* Implement Sentiment Analysis by a movie"
      ]
    },
    {
      "cell_type": "code",
      "execution_count": 7,
      "metadata": {
        "colab": {
          "base_uri": "https://localhost:8080/"
        },
        "id": "_wLXKUzBWxxX",
        "outputId": "83938b0f-80df-4085-e9a5-c132ae898f56"
      },
      "outputs": [
        {
          "name": "stderr",
          "output_type": "stream",
          "text": [
            "[nltk_data] Downloading package vader_lexicon to\n",
            "[nltk_data]     C:\\Users\\jbyka\\AppData\\Roaming\\nltk_data...\n",
            "[nltk_data]   Package vader_lexicon is already up-to-date!\n"
          ]
        }
      ],
      "source": [
        "import pandas as pd\n",
        "import nltk\n",
        "nltk.downloader.download('vader_lexicon')\n",
        "from nltk.sentiment.vader import SentimentIntensityAnalyzer"
      ]
    },
    {
      "cell_type": "code",
      "execution_count": 8,
      "metadata": {
        "id": "aJsW_bc9ZD2d"
      },
      "outputs": [],
      "source": [
        "# reading and wragling data\n",
        "df_avatar = pd.read_csv('./avatar.csv',  encoding= 'unicode_escape')\n",
        "df_avatar_lines = df_avatar.groupby('character').count()\n",
        "df_avatar_lines = df_avatar_lines.sort_values(by=['character_words'], ascending=False)[:10]\n",
        "top_character_names = df_avatar_lines.index.values"
      ]
    },
    {
      "cell_type": "code",
      "execution_count": 9,
      "metadata": {
        "id": "RLwuyujMblj-"
      },
      "outputs": [],
      "source": [
        "# filtering out non-top characters\n",
        "df_character_sentiment = df_avatar[df_avatar['character'].isin(top_character_names)]\n",
        "df_character_sentiment = df_character_sentiment[['character', 'character_words']]\n"
      ]
    },
    {
      "cell_type": "code",
      "execution_count": 10,
      "metadata": {
        "id": "MI7Wf0nTcIfw"
      },
      "outputs": [],
      "source": [
        "sid = SentimentIntensityAnalyzer()\n",
        "df_character_sentiment.reset_index(inplace=True, drop=True)\n",
        "df_character_sentiment[['neg', 'neu', 'pos', 'compound']] = df_character_sentiment['character_words'].apply(sid.polarity_scores).apply(pd.Series)"
      ]
    },
    {
      "cell_type": "code",
      "execution_count": 12,
      "metadata": {
        "colab": {
          "base_uri": "https://localhost:8080/",
          "height": 423
        },
        "id": "YmRb97NddV4G",
        "outputId": "4fb87caa-2813-41b7-b5d2-9700b552462a"
      },
      "outputs": [
        {
          "data": {
            "text/html": [
              "<div>\n",
              "<style scoped>\n",
              "    .dataframe tbody tr th:only-of-type {\n",
              "        vertical-align: middle;\n",
              "    }\n",
              "\n",
              "    .dataframe tbody tr th {\n",
              "        vertical-align: top;\n",
              "    }\n",
              "\n",
              "    .dataframe thead th {\n",
              "        text-align: right;\n",
              "    }\n",
              "</style>\n",
              "<table border=\"1\" class=\"dataframe\">\n",
              "  <thead>\n",
              "    <tr style=\"text-align: right;\">\n",
              "      <th></th>\n",
              "      <th>character</th>\n",
              "      <th>character_words</th>\n",
              "      <th>neg</th>\n",
              "      <th>neu</th>\n",
              "      <th>pos</th>\n",
              "      <th>compound</th>\n",
              "    </tr>\n",
              "  </thead>\n",
              "  <tbody>\n",
              "    <tr>\n",
              "      <th>0</th>\n",
              "      <td>Katara</td>\n",
              "      <td>Water. Earth. Fire. Air. My grandmother used t...</td>\n",
              "      <td>0.196</td>\n",
              "      <td>0.735</td>\n",
              "      <td>0.069</td>\n",
              "      <td>-0.9718</td>\n",
              "    </tr>\n",
              "    <tr>\n",
              "      <th>1</th>\n",
              "      <td>Sokka</td>\n",
              "      <td>It's not getting away from me this time.  Watc...</td>\n",
              "      <td>0.000</td>\n",
              "      <td>1.000</td>\n",
              "      <td>0.000</td>\n",
              "      <td>0.0000</td>\n",
              "    </tr>\n",
              "    <tr>\n",
              "      <th>2</th>\n",
              "      <td>Katara</td>\n",
              "      <td>Sokka, look!</td>\n",
              "      <td>0.000</td>\n",
              "      <td>1.000</td>\n",
              "      <td>0.000</td>\n",
              "      <td>0.0000</td>\n",
              "    </tr>\n",
              "    <tr>\n",
              "      <th>3</th>\n",
              "      <td>Sokka</td>\n",
              "      <td>Sshh! Katara, you're going to scare it away.  ...</td>\n",
              "      <td>0.200</td>\n",
              "      <td>0.800</td>\n",
              "      <td>0.000</td>\n",
              "      <td>-0.5411</td>\n",
              "    </tr>\n",
              "    <tr>\n",
              "      <th>4</th>\n",
              "      <td>Katara</td>\n",
              "      <td>But, Sokka! I caught one!</td>\n",
              "      <td>0.000</td>\n",
              "      <td>1.000</td>\n",
              "      <td>0.000</td>\n",
              "      <td>0.0000</td>\n",
              "    </tr>\n",
              "    <tr>\n",
              "      <th>...</th>\n",
              "      <td>...</td>\n",
              "      <td>...</td>\n",
              "      <td>...</td>\n",
              "      <td>...</td>\n",
              "      <td>...</td>\n",
              "      <td>...</td>\n",
              "    </tr>\n",
              "    <tr>\n",
              "      <th>7053</th>\n",
              "      <td>Zuko</td>\n",
              "      <td>At least you don't look like a boar-q-pine! My...</td>\n",
              "      <td>0.183</td>\n",
              "      <td>0.817</td>\n",
              "      <td>0.000</td>\n",
              "      <td>-0.4007</td>\n",
              "    </tr>\n",
              "    <tr>\n",
              "      <th>7054</th>\n",
              "      <td>Suki</td>\n",
              "      <td>And why did you paint me firebending?</td>\n",
              "      <td>0.000</td>\n",
              "      <td>1.000</td>\n",
              "      <td>0.000</td>\n",
              "      <td>0.0000</td>\n",
              "    </tr>\n",
              "    <tr>\n",
              "      <th>7055</th>\n",
              "      <td>Sokka</td>\n",
              "      <td>I thought it looked more exciting that way.  O...</td>\n",
              "      <td>0.000</td>\n",
              "      <td>0.687</td>\n",
              "      <td>0.313</td>\n",
              "      <td>0.7501</td>\n",
              "    </tr>\n",
              "    <tr>\n",
              "      <th>7056</th>\n",
              "      <td>Iroh</td>\n",
              "      <td>Hey, my belly's not that big anymore. I've rea...</td>\n",
              "      <td>0.000</td>\n",
              "      <td>1.000</td>\n",
              "      <td>0.000</td>\n",
              "      <td>0.0000</td>\n",
              "    </tr>\n",
              "    <tr>\n",
              "      <th>7057</th>\n",
              "      <td>Toph</td>\n",
              "      <td>Well I think you all look perfect!</td>\n",
              "      <td>0.000</td>\n",
              "      <td>0.396</td>\n",
              "      <td>0.604</td>\n",
              "      <td>0.7263</td>\n",
              "    </tr>\n",
              "  </tbody>\n",
              "</table>\n",
              "<p>7058 rows × 6 columns</p>\n",
              "</div>"
            ],
            "text/plain": [
              "     character                                    character_words    neg  \\\n",
              "0       Katara  Water. Earth. Fire. Air. My grandmother used t...  0.196   \n",
              "1        Sokka  It's not getting away from me this time.  Watc...  0.000   \n",
              "2       Katara                                       Sokka, look!  0.000   \n",
              "3        Sokka  Sshh! Katara, you're going to scare it away.  ...  0.200   \n",
              "4       Katara                          But, Sokka! I caught one!  0.000   \n",
              "...        ...                                                ...    ...   \n",
              "7053      Zuko  At least you don't look like a boar-q-pine! My...  0.183   \n",
              "7054      Suki              And why did you paint me firebending?  0.000   \n",
              "7055     Sokka  I thought it looked more exciting that way.  O...  0.000   \n",
              "7056      Iroh  Hey, my belly's not that big anymore. I've rea...  0.000   \n",
              "7057      Toph                 Well I think you all look perfect!  0.000   \n",
              "\n",
              "        neu    pos  compound  \n",
              "0     0.735  0.069   -0.9718  \n",
              "1     1.000  0.000    0.0000  \n",
              "2     1.000  0.000    0.0000  \n",
              "3     0.800  0.000   -0.5411  \n",
              "4     1.000  0.000    0.0000  \n",
              "...     ...    ...       ...  \n",
              "7053  0.817  0.000   -0.4007  \n",
              "7054  1.000  0.000    0.0000  \n",
              "7055  0.687  0.313    0.7501  \n",
              "7056  1.000  0.000    0.0000  \n",
              "7057  0.396  0.604    0.7263  \n",
              "\n",
              "[7058 rows x 6 columns]"
            ]
          },
          "execution_count": 12,
          "metadata": {},
          "output_type": "execute_result"
        }
      ],
      "source": [
        "df_character_sentiment"
      ]
    },
    {
      "cell_type": "markdown",
      "metadata": {
        "id": "RpA4FHy0ddTB"
      },
      "source": []
    },
    {
      "cell_type": "markdown",
      "metadata": {
        "id": "q1DlUw1vabod"
      },
      "source": [
        "**Exp-2** Implement Named Entity Recognition (NER) in Python with Spacy"
      ]
    },
    {
      "cell_type": "code",
      "execution_count": 1,
      "metadata": {
        "id": "4-t1FCS9ZCnv"
      },
      "outputs": [],
      "source": [
        "import spacy\n",
        "from spacy import displacy"
      ]
    },
    {
      "cell_type": "code",
      "execution_count": 3,
      "metadata": {
        "id": "LRL2rhNkbMng"
      },
      "outputs": [],
      "source": [
        "NER = spacy.load(\"en_core_web_sm\")\n",
        "raw_text=\"The Indian Space Research Organisation is the national space agency of India,headquartered in Bengaluru. It operates under Department of Space which is directly overseen by the Prime Minister of India while Chairman of ISRO acts as executive of DOS as well.\"\n",
        "text1= NER(raw_text)"
      ]
    },
    {
      "cell_type": "code",
      "execution_count": 4,
      "metadata": {
        "colab": {
          "base_uri": "https://localhost:8080/"
        },
        "id": "TaMM-aHTbaW_",
        "outputId": "c38fa3ea-00f4-4bcd-dc1c-65ffd4cf64a9"
      },
      "outputs": [
        {
          "name": "stdout",
          "output_type": "stream",
          "text": [
            "The Indian Space Research Organisation ORG\n",
            "India GPE\n",
            "Bengaluru GPE\n",
            "Department of Space ORG\n",
            "India GPE\n",
            "ISRO ORG\n",
            "DOS ORG\n"
          ]
        }
      ],
      "source": [
        "for word in text1.ents:\n",
        " print(word.text,word.label_)"
      ]
    }
  ],
  "metadata": {
    "colab": {
      "provenance": []
    },
    "kernelspec": {
      "display_name": "Python 3",
      "name": "python3"
    },
    "language_info": {
      "codemirror_mode": {
        "name": "ipython",
        "version": 3
      },
      "file_extension": ".py",
      "mimetype": "text/x-python",
      "name": "python",
      "nbconvert_exporter": "python",
      "pygments_lexer": "ipython3",
      "version": "3.11.4"
    }
  },
  "nbformat": 4,
  "nbformat_minor": 0
}
